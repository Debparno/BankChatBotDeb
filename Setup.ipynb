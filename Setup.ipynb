{
  "nbformat": 4,
  "nbformat_minor": 0,
  "metadata": {
    "kernelspec": {
      "display_name": "Python 3",
      "language": "python",
      "name": "python3"
    },
    "language_info": {
      "codemirror_mode": {
        "name": "ipython",
        "version": 3
      },
      "file_extension": ".py",
      "mimetype": "text/x-python",
      "name": "python",
      "nbconvert_exporter": "python",
      "pygments_lexer": "ipython3",
      "version": "3.5.2"
    },
    "colab": {
      "name": "Setup (12).ipynb",
      "provenance": [],
      "toc_visible": true
    }
  },
  "cells": [
    {
      "cell_type": "markdown",
      "metadata": {
        "id": "XNvKs2f11LVt",
        "colab_type": "text"
      },
      "source": [
        "## Setup File for Keras Models\n",
        "Use `%run Setup.ipynb` in another notebook to perform all these tasks automatically.\n",
        "\n",
        "Parameters that can be re-configured:"
      ]
    },
    {
      "cell_type": "code",
      "metadata": {
        "id": "wPTsUuqj1LVw",
        "colab_type": "code",
        "outputId": "f5500ed4-ccf0-4d43-e83b-021ff135c66f",
        "colab": {
          "base_uri": "https://localhost:8080/",
          "height": 70
        }
      },
      "source": [
        "MAX_NB_WORDS = 40000 # max no. of words for tokenizer\n",
        "MAX_SEQUENCE_LENGTH = 30 # max length of text (words) including padding\n",
        "VALIDATION_SPLIT = 0.2\n",
        "EMBEDDING_DIM = 25 # embedding dimensions for word vectors (word2vec/GloVe)\n",
        "GLOVE_DIR = \"dataset/glove/glove.twitter.27B.\"+str(25)+\"d.txt\"\n",
        "print(\"[i] Loaded Parameters:\\n\",\n",
        "      MAX_NB_WORDS,MAX_SEQUENCE_LENGTH+5,\n",
        "      VALIDATION_SPLIT,EMBEDDING_DIM,\"\\n\",\n",
        "      GLOVE_DIR)"
      ],
      "execution_count": 0,
      "outputs": [
        {
          "output_type": "stream",
          "text": [
            "[i] Loaded Parameters:\n",
            " 40000 35 0.2 25 \n",
            " dataset/glove/glove.twitter.27B.25d.txt\n"
          ],
          "name": "stdout"
        }
      ]
    },
    {
      "cell_type": "markdown",
      "metadata": {
        "id": "nzXw7rD91LV0",
        "colab_type": "text"
      },
      "source": [
        "Imports:"
      ]
    },
    {
      "cell_type": "code",
      "metadata": {
        "id": "2MWcJnny1LV1",
        "colab_type": "code",
        "outputId": "b77486a2-aa0b-4994-8931-af50b8edd32b",
        "colab": {
          "base_uri": "https://localhost:8080/",
          "height": 100
        }
      },
      "source": [
        "print(\"[i] Importing Modules...\")\n",
        "import numpy as np\n",
        "import pandas as pd\n",
        "import re, sys, os, csv, keras, pickle"
      ],
      "execution_count": 0,
      "outputs": [
        {
          "output_type": "stream",
          "text": [
            "[i] Importing Modules...\n"
          ],
          "name": "stdout"
        },
        {
          "output_type": "stream",
          "text": [
            "Using TensorFlow backend.\n"
          ],
          "name": "stderr"
        },
        {
          "output_type": "display_data",
          "data": {
            "text/html": [
              "<p style=\"color: red;\">\n",
              "The default version of TensorFlow in Colab will soon switch to TensorFlow 2.x.<br>\n",
              "We recommend you <a href=\"https://www.tensorflow.org/guide/migrate\" target=\"_blank\">upgrade</a> now \n",
              "or ensure your notebook will continue to use TensorFlow 1.x via the <code>%tensorflow_version 1.x</code> magic:\n",
              "<a href=\"https://colab.research.google.com/notebooks/tensorflow_version.ipynb\" target=\"_blank\">more info</a>.</p>\n"
            ],
            "text/plain": [
              "<IPython.core.display.HTML object>"
            ]
          },
          "metadata": {
            "tags": []
          }
        }
      ]
    },
    {
      "cell_type": "code",
      "metadata": {
        "id": "SCzJr7391LV4",
        "colab_type": "code",
        "outputId": "558495df-2aa5-4ff7-e457-6e1e13163452",
        "colab": {
          "base_uri": "https://localhost:8080/",
          "height": 35
        }
      },
      "source": [
        "from keras import regularizers, initializers, optimizers, callbacks\n",
        "from keras.preprocessing.text import Tokenizer\n",
        "from keras.preprocessing.sequence import pad_sequences\n",
        "from keras.utils.np_utils import to_categorical\n",
        "from keras.layers import Embedding\n",
        "from keras.layers import Dense, Input, Flatten, Concatenate\n",
        "from keras.layers import Conv1D, MaxPooling1D, Embedding, merge, Dropout, LSTM, GRU, Bidirectional\n",
        "from keras.models import Model\n",
        "from keras import backend as K\n",
        "from keras.engine.topology import Layer, InputSpec\n",
        "print(\"[+] Using Keras version\",keras.__version__)"
      ],
      "execution_count": 0,
      "outputs": [
        {
          "output_type": "stream",
          "text": [
            "[+] Using Keras version 2.2.5\n"
          ],
          "name": "stdout"
        }
      ]
    },
    {
      "cell_type": "code",
      "metadata": {
        "id": "ogs56s4l1LV6",
        "colab_type": "code",
        "outputId": "88561e2e-efda-4ffd-d86c-179747893f15",
        "colab": {
          "base_uri": "https://localhost:8080/",
          "height": 35
        }
      },
      "source": [
        "print(\"[+] Finished Importing Modules\")"
      ],
      "execution_count": 0,
      "outputs": [
        {
          "output_type": "stream",
          "text": [
            "[+] Finished Importing Modules\n"
          ],
          "name": "stdout"
        }
      ]
    },
    {
      "cell_type": "code",
      "metadata": {
        "id": "TY7mLiCv1LV9",
        "colab_type": "code",
        "outputId": "670519c7-43b6-47ef-91c5-2e68b46135bb",
        "colab": {
          "base_uri": "https://localhost:8080/",
          "height": 35
        }
      },
      "source": [
        "texts, labels = [], []\n",
        "print(\"[i] Reading from csv file...\", end=\"\")\n",
        "with open('data.csv') as csvfile:\n",
        "    readCSV = csv.reader(csvfile, delimiter=',')\n",
        "    for row in readCSV:\n",
        "        texts.append(row[0])\n",
        "        labels.append(row[1])\n",
        "print(\"Done!\")"
      ],
      "execution_count": 0,
      "outputs": [
        {
          "output_type": "stream",
          "text": [
            "[i] Reading from csv file...Done!\n"
          ],
          "name": "stdout"
        }
      ]
    },
    {
      "cell_type": "code",
      "metadata": {
        "id": "IO-axdIO2kZo",
        "colab_type": "code",
        "colab": {}
      },
      "source": [
        "labels = labels[1:]\n",
        "texts = texts[1:]\n",
        "i=0\n",
        "for x in labels:\n",
        "  labels[i] = int(float(x))\n",
        "  i += 1"
      ],
      "execution_count": 0,
      "outputs": []
    },
    {
      "cell_type": "markdown",
      "metadata": {
        "id": "fVREB2ag1LWA",
        "colab_type": "text"
      },
      "source": [
        "Convert text to word tokens (numbers that refer to the words)"
      ]
    },
    {
      "cell_type": "code",
      "metadata": {
        "id": "h0ASTL7_1LWA",
        "colab_type": "code",
        "colab": {}
      },
      "source": [
        "\"\"\"\n",
        "tokenizer = Tokenizer(num_words=MAX_NB_WORDS)\n",
        "tokenizer.fit_on_texts(texts)\n",
        "with open('tokenizer.pickle', 'wb') as handle:\n",
        "    pickle.dump(tokenizer, handle, protocol=pickle.HIGHEST_PROTOCOL)\n",
        "print(\"[i] Saved word tokenizer to file: tokenizer.pickle\")\n",
        "\"\"\""
      ],
      "execution_count": 0,
      "outputs": []
    },
    {
      "cell_type": "code",
      "metadata": {
        "id": "LXAngILI1LWD",
        "colab_type": "code",
        "colab": {}
      },
      "source": [
        "with open('tokenizer.pickle', 'rb') as handle:\n",
        "    tokenizer = pickle.load(handle)"
      ],
      "execution_count": 0,
      "outputs": []
    },
    {
      "cell_type": "markdown",
      "metadata": {
        "id": "HO3J6zYT1LWG",
        "colab_type": "text"
      },
      "source": [
        "Convert tweets to sequences of word tokens with zero padding at the front and back"
      ]
    },
    {
      "cell_type": "code",
      "metadata": {
        "id": "TVfkWwIl1LWH",
        "colab_type": "code",
        "colab": {}
      },
      "source": [
        "sequences = tokenizer.texts_to_sequences(texts)\n",
        "word_index = tokenizer.word_index\n",
        "print('[i] Found %s unique tokens.' % len(word_index))\n",
        "data_int = pad_sequences(sequences, padding='pre', maxlen=(MAX_SEQUENCE_LENGTH-5))\n",
        "data = pad_sequences(data_int, padding='post', maxlen=(MAX_SEQUENCE_LENGTH))"
      ],
      "execution_count": 0,
      "outputs": []
    },
    {
      "cell_type": "code",
      "metadata": {
        "id": "AbnIPs0e1LWK",
        "colab_type": "code",
        "colab": {}
      },
      "source": [
        "labels = to_categorical(np.asarray(labels)) # convert to one-hot encoding vectors\n",
        "print('[+] Shape of data tensor:', data.shape)\n",
        "print('[+] Shape of label tensor:', labels.shape)"
      ],
      "execution_count": 0,
      "outputs": []
    },
    {
      "cell_type": "code",
      "metadata": {
        "id": "no1PB87r1LWN",
        "colab_type": "code",
        "colab": {}
      },
      "source": [
        "indices = np.arange(data.shape[0])\n",
        "np.random.shuffle(indices)\n",
        "data = data[indices]\n",
        "labels = labels[indices]\n",
        "nb_validation_samples = int(VALIDATION_SPLIT * data.shape[0])"
      ],
      "execution_count": 0,
      "outputs": []
    },
    {
      "cell_type": "code",
      "metadata": {
        "id": "u-1U3qnq1LWQ",
        "colab_type": "code",
        "colab": {}
      },
      "source": [
        "x_train = data[:-nb_validation_samples]\n",
        "y_train = labels[:-nb_validation_samples]\n",
        "x_val = data[-nb_validation_samples:]\n",
        "y_val = labels[-nb_validation_samples:]\n",
        "\n",
        "print('[i] Number of entries in each category:')\n",
        "print(\"[+] Training:\\n\",y_train.sum(axis=0))\n",
        "print(\"[+] Validation:\\n\",y_val.sum(axis=0))"
      ],
      "execution_count": 0,
      "outputs": []
    },
    {
      "cell_type": "markdown",
      "metadata": {
        "id": "C3CP0oij1LWS",
        "colab_type": "text"
      },
      "source": [
        "### Preparing the Embedding layer\n",
        "\n",
        "Compute an index mapping words to known embeddings, by parsing the data dump of pre-trained embeddings.\n",
        "\n",
        "We use pre-trained [GloVe](https://nlp.stanford.edu/projects/glove/) vectors from Stanford NLP. For new words, a \"randomised vector\" will be created."
      ]
    },
    {
      "cell_type": "code",
      "metadata": {
        "id": "etbKWE0H1LWT",
        "colab_type": "code",
        "colab": {}
      },
      "source": [
        "embeddings_index = {}\n",
        "f = open(GLOVE_DIR)\n",
        "print(\"[i] Loading GloVe from:\",GLOVE_DIR,\"...\",end=\"\")\n",
        "for line in f:\n",
        "    values = line.split()\n",
        "    word = values[0]\n",
        "    embeddings_index[word] = np.asarray(values[1:], dtype='float32')\n",
        "f.close()\n",
        "print(\"Done.\\n[+] Proceeding with Embedding Matrix...\", end=\"\")\n",
        "embedding_matrix = np.random.random((len(word_index) + 1, EMBEDDING_DIM))\n",
        "for word, i in word_index.items():\n",
        "    embedding_vector = embeddings_index.get(word)\n",
        "    if embedding_vector is not None:\n",
        "        # words not found in embedding index will be all-zeros.\n",
        "        embedding_matrix[i] = embedding_vector\n",
        "print(\"[i] Completed!\")"
      ],
      "execution_count": 0,
      "outputs": []
    },
    {
      "cell_type": "code",
      "metadata": {
        "id": "rNMSHCox1LWW",
        "colab_type": "code",
        "colab": {}
      },
      "source": [
        "print(\"[i] Finished running setup.\")"
      ],
      "execution_count": 0,
      "outputs": []
    }
  ]
}